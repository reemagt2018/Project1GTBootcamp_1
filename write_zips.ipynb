{
 "cells": [
  {
   "cell_type": "code",
   "execution_count": 1,
   "metadata": {},
   "outputs": [],
   "source": [
    "# dependencies\n",
    "import requests\n",
    "import json\n",
    "import pandas as pd\n",
    "import utils\n",
    "\n",
    "# api keys\n",
    "from config import gkey, zkey"
   ]
  },
  {
   "cell_type": "code",
   "execution_count": 2,
   "metadata": {},
   "outputs": [
    {
     "name": "stdout",
     "output_type": "stream",
     "text": [
      "Target city: atlanta\n"
     ]
    }
   ],
   "source": [
    "# get target location\n",
    "params = utils.get_search_params(gkey)\n",
    "\n",
    "base_url = \"https://maps.googleapis.com/maps/api/geocode/json\"\n",
    "res = requests.get(base_url, params=params).json()\n",
    "\n",
    "lat = res[\"results\"][0][\"geometry\"][\"location\"][\"lat\"]\n",
    "lng = res[\"results\"][0][\"geometry\"][\"location\"][\"lng\"]\n",
    "state = res[\"results\"][0][\"address_components\"][2][\"long_name\"]\n",
    "city = res[\"results\"][0][\"address_components\"][0][\"long_name\"]"
   ]
  },
  {
   "cell_type": "code",
   "execution_count": 3,
   "metadata": {},
   "outputs": [],
   "source": [
    "# get zip code via reverse geocode query\n",
    "params = {\n",
    "    \"latlng\":f\"{lat},{lng}\",\n",
    "    \"result_type\":\"postal_code\",\n",
    "    \"key\":gkey\n",
    "}\n",
    "\n",
    "res_zips = requests.get(f\"https://maps.googleapis.com/maps/api/geocode/json\", params=params).json()\n",
    "zip_code = res_zips['results'][0]['address_components'][0]['long_name']"
   ]
  },
  {
   "cell_type": "code",
   "execution_count": 4,
   "metadata": {},
   "outputs": [
    {
     "data": {
      "text/plain": [
       "'30334'"
      ]
     },
     "execution_count": 4,
     "metadata": {},
     "output_type": "execute_result"
    }
   ],
   "source": [
    "zip_code"
   ]
  },
  {
   "cell_type": "code",
   "execution_count": null,
   "metadata": {},
   "outputs": [],
   "source": [
    "# Get the list of zips\n",
    "params = utils.get_search_radius_params(zip_code, zkey)\n",
    "\n",
    "url = \"https://www.zipcodeapi.com/rest/{key}/radius.json/{zip}/{distance}/mile\".format(**params)\n",
    "res = utils.fetch(url)\n",
    "zips = res['response'].json()"
   ]
  },
  {
   "cell_type": "code",
   "execution_count": null,
   "metadata": {
    "scrolled": false
   },
   "outputs": [],
   "source": [
    "zips_df = pd.DataFrame(zips['zip_codes'])\n",
    "ziplist = zips_df['zip_code'].values"
   ]
  },
  {
   "cell_type": "code",
   "execution_count": null,
   "metadata": {},
   "outputs": [],
   "source": [
    "utils.write_zipcodes(ziplist)"
   ]
  }
 ],
 "metadata": {
  "kernelspec": {
   "display_name": "Python [default]",
   "language": "python",
   "name": "python3"
  },
  "language_info": {
   "codemirror_mode": {
    "name": "ipython",
    "version": 3
   },
   "file_extension": ".py",
   "mimetype": "text/x-python",
   "name": "python",
   "nbconvert_exporter": "python",
   "pygments_lexer": "ipython3",
   "version": "3.6.5"
  }
 },
 "nbformat": 4,
 "nbformat_minor": 2
}
